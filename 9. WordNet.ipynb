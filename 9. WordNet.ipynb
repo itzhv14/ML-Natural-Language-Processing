{
 "cells": [
  {
   "cell_type": "markdown",
   "metadata": {},
   "source": [
    "# WordNet "
   ]
  },
  {
   "cell_type": "code",
   "execution_count": 1,
   "metadata": {},
   "outputs": [],
   "source": [
    "from nltk.corpus import wordnet"
   ]
  },
  {
   "cell_type": "code",
   "execution_count": 2,
   "metadata": {},
   "outputs": [],
   "source": [
    "syns = wordnet.synsets(\"program\")"
   ]
  },
  {
   "cell_type": "code",
   "execution_count": 3,
   "metadata": {},
   "outputs": [
    {
     "data": {
      "text/plain": [
       "[Synset('plan.n.01'),\n",
       " Synset('program.n.02'),\n",
       " Synset('broadcast.n.02'),\n",
       " Synset('platform.n.02'),\n",
       " Synset('program.n.05'),\n",
       " Synset('course_of_study.n.01'),\n",
       " Synset('program.n.07'),\n",
       " Synset('program.n.08'),\n",
       " Synset('program.v.01'),\n",
       " Synset('program.v.02')]"
      ]
     },
     "execution_count": 3,
     "metadata": {},
     "output_type": "execute_result"
    }
   ],
   "source": [
    "syns"
   ]
  },
  {
   "cell_type": "code",
   "execution_count": 10,
   "metadata": {},
   "outputs": [
    {
     "data": {
      "text/plain": [
       "'plan.n.01'"
      ]
     },
     "execution_count": 10,
     "metadata": {},
     "output_type": "execute_result"
    }
   ],
   "source": [
    "syns[0].name()"
   ]
  },
  {
   "cell_type": "code",
   "execution_count": 11,
   "metadata": {},
   "outputs": [
    {
     "data": {
      "text/plain": [
       "[Lemma('plan.n.01.plan'),\n",
       " Lemma('plan.n.01.program'),\n",
       " Lemma('plan.n.01.programme')]"
      ]
     },
     "execution_count": 11,
     "metadata": {},
     "output_type": "execute_result"
    }
   ],
   "source": [
    "syns[0].lemmas()"
   ]
  },
  {
   "cell_type": "code",
   "execution_count": 12,
   "metadata": {},
   "outputs": [
    {
     "data": {
      "text/plain": [
       "'plan'"
      ]
     },
     "execution_count": 12,
     "metadata": {},
     "output_type": "execute_result"
    }
   ],
   "source": [
    "syns[0].lemmas()[0].name()"
   ]
  },
  {
   "cell_type": "code",
   "execution_count": 13,
   "metadata": {},
   "outputs": [
    {
     "data": {
      "text/plain": [
       "'a series of steps to be carried out or goals to be accomplished'"
      ]
     },
     "execution_count": 13,
     "metadata": {},
     "output_type": "execute_result"
    }
   ],
   "source": [
    "syns[0].definition()"
   ]
  },
  {
   "cell_type": "code",
   "execution_count": 14,
   "metadata": {},
   "outputs": [
    {
     "data": {
      "text/plain": [
       "['they drew up a six-step plan', 'they discussed plans for a new bond issue']"
      ]
     },
     "execution_count": 14,
     "metadata": {},
     "output_type": "execute_result"
    }
   ],
   "source": [
    "syns[0].examples()"
   ]
  },
  {
   "cell_type": "code",
   "execution_count": 21,
   "metadata": {},
   "outputs": [
    {
     "name": "stdout",
     "output_type": "stream",
     "text": [
      "Synset('good.n.01')\n",
      "Lemma('good.n.01.good')\n",
      "Synset('good.n.02')\n",
      "Lemma('good.n.02.good')\n",
      "Anto [Lemma('evil.n.03.evil')]\n",
      "Lemma('good.n.02.goodness')\n",
      "Anto [Lemma('evil.n.03.evilness')]\n",
      "Synset('good.n.03')\n",
      "Lemma('good.n.03.good')\n",
      "Anto [Lemma('bad.n.01.bad')]\n",
      "Lemma('good.n.03.goodness')\n",
      "Anto [Lemma('bad.n.01.badness')]\n",
      "Synset('commodity.n.01')\n",
      "Lemma('commodity.n.01.commodity')\n",
      "Lemma('commodity.n.01.trade_good')\n",
      "Lemma('commodity.n.01.good')\n",
      "Synset('good.a.01')\n",
      "Lemma('good.a.01.good')\n",
      "Anto [Lemma('bad.a.01.bad')]\n",
      "Synset('full.s.06')\n",
      "Lemma('full.s.06.full')\n",
      "Lemma('full.s.06.good')\n",
      "Synset('good.a.03')\n",
      "Lemma('good.a.03.good')\n",
      "Anto [Lemma('evil.a.01.evil')]\n",
      "Synset('estimable.s.02')\n",
      "Lemma('estimable.s.02.estimable')\n",
      "Lemma('estimable.s.02.good')\n",
      "Lemma('estimable.s.02.honorable')\n",
      "Lemma('estimable.s.02.respectable')\n",
      "Synset('beneficial.s.01')\n",
      "Lemma('beneficial.s.01.beneficial')\n",
      "Lemma('beneficial.s.01.good')\n",
      "Synset('good.s.06')\n",
      "Lemma('good.s.06.good')\n",
      "Synset('good.s.07')\n",
      "Lemma('good.s.07.good')\n",
      "Lemma('good.s.07.just')\n",
      "Lemma('good.s.07.upright')\n",
      "Synset('adept.s.01')\n",
      "Lemma('adept.s.01.adept')\n",
      "Lemma('adept.s.01.expert')\n",
      "Lemma('adept.s.01.good')\n",
      "Lemma('adept.s.01.practiced')\n",
      "Lemma('adept.s.01.proficient')\n",
      "Lemma('adept.s.01.skillful')\n",
      "Lemma('adept.s.01.skilful')\n",
      "Synset('good.s.09')\n",
      "Lemma('good.s.09.good')\n",
      "Synset('dear.s.02')\n",
      "Lemma('dear.s.02.dear')\n",
      "Lemma('dear.s.02.good')\n",
      "Lemma('dear.s.02.near')\n",
      "Synset('dependable.s.04')\n",
      "Lemma('dependable.s.04.dependable')\n",
      "Lemma('dependable.s.04.good')\n",
      "Lemma('dependable.s.04.safe')\n",
      "Lemma('dependable.s.04.secure')\n",
      "Synset('good.s.12')\n",
      "Lemma('good.s.12.good')\n",
      "Lemma('good.s.12.right')\n",
      "Lemma('good.s.12.ripe')\n",
      "Synset('good.s.13')\n",
      "Lemma('good.s.13.good')\n",
      "Lemma('good.s.13.well')\n",
      "Synset('effective.s.04')\n",
      "Lemma('effective.s.04.effective')\n",
      "Lemma('effective.s.04.good')\n",
      "Lemma('effective.s.04.in_effect')\n",
      "Lemma('effective.s.04.in_force')\n",
      "Synset('good.s.15')\n",
      "Lemma('good.s.15.good')\n",
      "Synset('good.s.16')\n",
      "Lemma('good.s.16.good')\n",
      "Lemma('good.s.16.serious')\n",
      "Synset('good.s.17')\n",
      "Lemma('good.s.17.good')\n",
      "Lemma('good.s.17.sound')\n",
      "Synset('good.s.18')\n",
      "Lemma('good.s.18.good')\n",
      "Lemma('good.s.18.salutary')\n",
      "Synset('good.s.19')\n",
      "Lemma('good.s.19.good')\n",
      "Lemma('good.s.19.honest')\n",
      "Synset('good.s.20')\n",
      "Lemma('good.s.20.good')\n",
      "Lemma('good.s.20.undecomposed')\n",
      "Lemma('good.s.20.unspoiled')\n",
      "Lemma('good.s.20.unspoilt')\n",
      "Synset('good.s.21')\n",
      "Lemma('good.s.21.good')\n",
      "Synset('well.r.01')\n",
      "Lemma('well.r.01.well')\n",
      "Anto [Lemma('ill.r.01.ill')]\n",
      "Lemma('well.r.01.good')\n",
      "Synset('thoroughly.r.02')\n",
      "Lemma('thoroughly.r.02.thoroughly')\n",
      "Lemma('thoroughly.r.02.soundly')\n",
      "Lemma('thoroughly.r.02.good')\n",
      "\n",
      "\n",
      "Syns:    {'soundly', 'skillful', 'full', 'dependable', 'good', 'beneficial', 'proficient', 'thoroughly', 'adept', 'right', 'unspoiled', 'salutary', 'unspoilt', 'honorable', 'honest', 'just', 'expert', 'ripe', 'respectable', 'goodness', 'well', 'estimable', 'near', 'undecomposed', 'in_force', 'trade_good', 'safe', 'dear', 'secure', 'upright', 'effective', 'serious', 'in_effect', 'commodity', 'sound', 'skilful', 'practiced'}\n",
      "\n",
      "\n",
      "Anto:    {'bad', 'evilness', 'badness', 'ill', 'evil'}\n"
     ]
    }
   ],
   "source": [
    "synonyms = []\n",
    "antonyms = []\n",
    "\n",
    "for syn in wordnet.synsets(\"good\"):\n",
    "    print(syn)\n",
    "    for l in syn.lemmas():\n",
    "        print(l)\n",
    "        synonyms.append(l.name())\n",
    "        if l.antonyms():\n",
    "            print(\"Anto\", l.antonyms())\n",
    "            antonyms.append(l.antonyms()[0].name())\n",
    "\n",
    "print(\"\\n\\nSyns:   \", set(synonyms))\n",
    "print(\"\\n\\nAnto:   \",set(antonyms))"
   ]
  },
  {
   "cell_type": "code",
   "execution_count": null,
   "metadata": {},
   "outputs": [],
   "source": []
  }
 ],
 "metadata": {
  "kernelspec": {
   "display_name": "Python 3",
   "language": "python",
   "name": "python3"
  },
  "language_info": {
   "codemirror_mode": {
    "name": "ipython",
    "version": 3
   },
   "file_extension": ".py",
   "mimetype": "text/x-python",
   "name": "python",
   "nbconvert_exporter": "python",
   "pygments_lexer": "ipython3",
   "version": "3.7.4"
  }
 },
 "nbformat": 4,
 "nbformat_minor": 2
}
